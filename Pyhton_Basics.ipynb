{
  "nbformat": 4,
  "nbformat_minor": 0,
  "metadata": {
    "colab": {
      "provenance": []
    },
    "kernelspec": {
      "name": "python3",
      "display_name": "Python 3"
    },
    "language_info": {
      "name": "python"
    }
  },
  "cells": [
    {
      "cell_type": "markdown",
      "source": [
        "#                                    **PYTHON BASICS**\n",
        "\n",
        "---\n",
        "\n",
        " 1. What is Pyhton,and why is it popular?\n",
        " -> Pyhton is a high level programming language known for its simplicity and redability. it is used in various fields like web development, data science, machine learning and automation. Its versatility and wide applications have made it one of the most popular languages in tech industry.\n",
        "\n",
        " 2. What is  an interpreter in pyhtons?\n",
        " -> An interpreter in Python is a program that executes Python code line by line, converting it into machine-readable instructions at runtime. It allows for interactive execution and debugging but may run slower than compiled languages.\n",
        "\n",
        " 3. What are pre-defined keywords in Pyhton?\n",
        " -> Pre-defined keywords in Pyhton are reserved words that have special meanings and cannot be used as variable names or identifiers. Examples include if,  else, while, for, def, class, import and return. These keywords define the syntax and structure of Pyhton programs.\n",
        "\n",
        " 4. Can keywords be used as variable names?\n",
        " -> No, keywords cannot be used as variable names in Python because they are reserved for specific functions and syntax in the language.\n",
        "\n",
        " 5. What is mutability in Python?\n",
        " -> Mutability in Python refers to whether an object's value can be changed after it is created.\n",
        "\n",
        " . Mutable objects: Can be modified after creation(e.g., lists, dictionaries, sets).\n",
        "\n",
        " . Immutable objects: Cannot be changed after creation (e.g., tuples, strings, integers).\n",
        "\n",
        " 6. Why are lists mutable, but tuples are immmutable?\n",
        " -> Lists are mutable because their elements can be changed, added or removed after creation. Tuples are immutable, meaning their elements cannot be modified once assigned.This is because tuples are designed for fixed data storage, while list allow dynamic.\n",
        "\n",
        " 7. What is the difference between \"==\" and \"is\" operators in Python?\n",
        " -> . == (Equality operator): Compares the values of two objects and returns True if they are equal.\n",
        " Example: 5 == 5 -> True\n",
        " . is (Identity operator): Checks if two objects refer to the same memory location (i.e., are the same object).\n",
        " Example: x=[1, 2]; y=[1, 2] x is y -> False (different objects with the same value)\n",
        "\n",
        " 8. What are logical operators in Pyhton?\n",
        " -> Logical operators in Pyhton are used to combine conditional statements and return True or False based on the logic applied.\n",
        " The three logical operators are:\n",
        " i. and\n",
        " ii. or\n",
        " iii. not\n",
        "\n",
        " 9. What is type casting in Pyhton?\n",
        " -> Type cassting in Pyhton is the process of converting one data type into another, it can be done:\n",
        " i. Implicitly: Performed automatically by Python (e.g., int to float)\n",
        " ii. Explicity: Done manually using type conversion functions like int(), float(), or str().\n",
        "\n",
        " 10. What is the difference between      implict and explicit type casting?\n",
        "\n",
        "-> Implicit Type Casting\n",
        "   Performed automatically by Python when converting a smaller data type to a larger one without data loss.\n",
        "   Example: X=5+2.5 (integer 5 is implicity converted to float 5.0)\n",
        "\n",
        "   Explicit Type Casting:\n",
        "   Done manually by the programmer using functions like int(), float(), or str().\n",
        "   Example: x=int(5.7) (float 5.7 is explicity converted to integer 5).\n",
        "\n",
        " 11. What is the purpose of conditional statements in Python?\n",
        " -> The purpose of conditional statements in Python is to make decisions and execute specific blocks of code based on certain conditions. Theyallow foe control flow by evaluating wheter a given condition Truse or False and acting accordingly.\n",
        " Examples:\n",
        " . if: Executes a block of code if the condition is True.\n",
        "\n",
        " . elif: Adds more conditions to check if the previous ones are False.\n",
        "\n",
        " . els: Executes a block of code when all previous conditions are False.\n",
        "\n",
        " 12. How does the elif statement work?\n",
        " -> The elif statement in Python stand for \"else if\" and allows you to check multiple conditions in sequence. It comes after an it statement and before an else statement (if used). The elif block executes only if the previous conditions are False and its own condition is True.\n",
        "\n",
        " 13. What is the difference between for and whhile loops?\n",
        "\n",
        " -> For loops are used to iterate over a sequence when the number of iterations known beforehand. While loops run as long as a given condition is True, making them ideal for scenarios where the iteration count is unnown. For loops are better for iterating over collections, while loops are suited for open-ended conditions.\n",
        "\n",
        " 14. Describe a scenario where a while loop is more suitable than a for loop?\n",
        " -> A while loop is more suitalble when the number of iterations is unkown and depends on a condition being met.\n",
        "\n",
        " Example scenario:\n",
        "\n",
        " python\n",
        "\n",
        "    password = \"\"\n",
        "\n",
        "     while password   !  =   \"secret\":\n",
        "       \n",
        "      password = input(\"Enter the correct password: \")\n",
        "\n",
        "\n"
      ],
      "metadata": {
        "id": "tSsphJFpWjBn"
      }
    },
    {
      "cell_type": "code",
      "source": [
        "print (\"Hello, World!\")"
      ],
      "metadata": {
        "colab": {
          "base_uri": "https://localhost:8080/"
        },
        "id": "QTPDckCPh26n",
        "outputId": "b34c8936-80da-4cdb-c0e6-668df9484cb5"
      },
      "execution_count": 1,
      "outputs": [
        {
          "output_type": "stream",
          "name": "stdout",
          "text": [
            "Hello, World!\n"
          ]
        }
      ]
    },
    {
      "cell_type": "code",
      "source": [
        "name = (\"Ronak\")\n",
        "age = 22"
      ],
      "metadata": {
        "id": "NH0yZrX1oAl1"
      },
      "execution_count": 18,
      "outputs": []
    },
    {
      "cell_type": "code",
      "source": [
        "name, age"
      ],
      "metadata": {
        "colab": {
          "base_uri": "https://localhost:8080/"
        },
        "id": "nXO732Y4ommT",
        "outputId": "ed5b7fc6-2a44-4788-a83a-77cd38d844f7"
      },
      "execution_count": 20,
      "outputs": [
        {
          "output_type": "execute_result",
          "data": {
            "text/plain": [
              "('Ronak', 22)"
            ]
          },
          "metadata": {},
          "execution_count": 20
        }
      ]
    },
    {
      "cell_type": "code",
      "source": [
        "help(\"keywords\")"
      ],
      "metadata": {
        "colab": {
          "base_uri": "https://localhost:8080/"
        },
        "id": "eKqi2KI0owbd",
        "outputId": "3523e99a-9a61-4458-e997-b85fd85c052f"
      },
      "execution_count": 21,
      "outputs": [
        {
          "output_type": "stream",
          "name": "stdout",
          "text": [
            "\n",
            "Here is a list of the Python keywords.  Enter any keyword to get more help.\n",
            "\n",
            "False               class               from                or\n",
            "None                continue            global              pass\n",
            "True                def                 if                  raise\n",
            "and                 del                 import              return\n",
            "as                  elif                in                  try\n",
            "assert              else                is                  while\n",
            "async               except              lambda              with\n",
            "await               finally             nonlocal            yield\n",
            "break               for                 not                 \n",
            "\n"
          ]
        }
      ]
    },
    {
      "cell_type": "code",
      "source": [
        "import keyword\n",
        "word = input(\"Enter a keyword: \")\n",
        "if keyword.iskeyword(word):\n",
        "  print(f\"{word} is a keyword.\")\n",
        "else:\n",
        "  print(f\"{word} is not a keyword.\")"
      ],
      "metadata": {
        "colab": {
          "base_uri": "https://localhost:8080/"
        },
        "id": "s7yTSn1Q5KxB",
        "outputId": "5d53ec10-276c-4b95-c934-25072f7d5fb3"
      },
      "execution_count": 5,
      "outputs": [
        {
          "output_type": "stream",
          "name": "stdout",
          "text": [
            "Enter a keyword: while\n",
            "while is a keyword.\n"
          ]
        }
      ]
    },
    {
      "cell_type": "code",
      "source": [
        "# Create a list and a tuple\n",
        "my_list = [1, 2, 3]\n",
        "my_tuple = (1, 2, 3)\n",
        "\n",
        "# Modify an element in the list\n",
        "my_list[0] = 10 #This works because lists are mutable\n",
        "print(\"Modified list\", my_list)\n",
        "\n",
        "# Attempt to modify an element in the tuple\n",
        "try:\n",
        "  my_tuple[0] = 10 #This will raise a TypeError because tuples are immutable\n",
        "except TypeError as e:\n",
        "  print(\"Error:\", e)"
      ],
      "metadata": {
        "colab": {
          "base_uri": "https://localhost:8080/"
        },
        "id": "UBDlrJCX9THH",
        "outputId": "aed3d1fe-8a1c-4476-c60a-8a5b67c1c41a"
      },
      "execution_count": 10,
      "outputs": [
        {
          "output_type": "stream",
          "name": "stdout",
          "text": [
            "Modified list [10, 2, 3]\n",
            "Error: 'tuple' object does not support item assignment\n"
          ]
        }
      ]
    },
    {
      "cell_type": "code",
      "source": [
        "def modify_args(immutable, mutable):\n",
        "  immutable += 1 #creates a new object\n",
        "  mutable.append(4) #modifies the original object\n",
        "\n",
        "\n",
        "x = 10 #immutable\n",
        "y = [1, 2, 3] # mutable\n",
        "\n",
        "modify_args(x, y)\n",
        "\n",
        "print(\"immutable (x)\", x)\n",
        "print(\"mutable (y)\", y)"
      ],
      "metadata": {
        "colab": {
          "base_uri": "https://localhost:8080/"
        },
        "id": "LyWzo2n8F7q_",
        "outputId": "56fe08c6-68c1-431b-cd9c-903ff5739421"
      },
      "execution_count": 2,
      "outputs": [
        {
          "output_type": "stream",
          "name": "stdout",
          "text": [
            "immutable (x) 10\n",
            "mutable (y) [1, 2, 3, 4]\n"
          ]
        }
      ]
    },
    {
      "cell_type": "code",
      "source": [
        "a, b = 5, -3\n",
        "\n",
        "print(\"a > 0 and b > 0:\", a > 0 and b > 0) # 'and'\n",
        "print(\"a > 0 or b > 0:\", a > 0 or b > 0) # 'or'\n",
        "print(\"not a > 0:\", not a > 0)          # 'not'\n"
      ],
      "metadata": {
        "colab": {
          "base_uri": "https://localhost:8080/"
        },
        "id": "-Lt0QqbQlMy4",
        "outputId": "621c7750-41ed-4365-bf9c-a85fd2f60730"
      },
      "execution_count": 3,
      "outputs": [
        {
          "output_type": "stream",
          "name": "stdout",
          "text": [
            "a > 0 and b > 0: False\n",
            "a > 0 or b > 0: True\n",
            "not a > 0: False\n"
          ]
        }
      ]
    },
    {
      "cell_type": "code",
      "source": [
        "# List of strings\n",
        "str_list = [\"1\", \"2\", \"3.5\", \"4.0\", \"True\"]\n",
        "\n",
        "#Type casting\n",
        "int_list = [int(x) for x in str_list]\n",
        "float_list = [float(x) for x in str_list]\n",
        "bool_list = [bool(x) for x in str_list]\n",
        "\n",
        "# Output\n",
        "print(\"Original List:\", str_list)\n",
        "print(\"Integer List:\", int_list)\n",
        "print(\"Float List:\", float_list)\n",
        "print(\"Boolean List:\", bool_list)\n"
      ],
      "metadata": {
        "id": "AL34VnyzqAda"
      },
      "execution_count": null,
      "outputs": []
    },
    {
      "cell_type": "code",
      "source": [
        "num = float(input(\"Enter a number: \"))\n",
        "print(\"Positive\" if num > 0 else \"Negative\" if num < 0 else \"Zero\")"
      ],
      "metadata": {
        "colab": {
          "base_uri": "https://localhost:8080/"
        },
        "id": "iYUeQd4srIdv",
        "outputId": "518cf2eb-03a3-4e22-8433-cfb25c9a60ed"
      },
      "execution_count": 7,
      "outputs": [
        {
          "output_type": "stream",
          "name": "stdout",
          "text": [
            "Enter a number: -5\n",
            "Negative\n"
          ]
        }
      ]
    },
    {
      "cell_type": "code",
      "source": [
        "for i in range(1, 101):\n",
        "  print(i)"
      ],
      "metadata": {
        "colab": {
          "base_uri": "https://localhost:8080/"
        },
        "id": "m3ywfqZ-rwie",
        "outputId": "a968ae8c-00fa-4847-c1d2-d6ce14bdedee"
      },
      "execution_count": 8,
      "outputs": [
        {
          "output_type": "stream",
          "name": "stdout",
          "text": [
            "1\n",
            "2\n",
            "3\n",
            "4\n",
            "5\n",
            "6\n",
            "7\n",
            "8\n",
            "9\n",
            "10\n",
            "11\n",
            "12\n",
            "13\n",
            "14\n",
            "15\n",
            "16\n",
            "17\n",
            "18\n",
            "19\n",
            "20\n",
            "21\n",
            "22\n",
            "23\n",
            "24\n",
            "25\n",
            "26\n",
            "27\n",
            "28\n",
            "29\n",
            "30\n",
            "31\n",
            "32\n",
            "33\n",
            "34\n",
            "35\n",
            "36\n",
            "37\n",
            "38\n",
            "39\n",
            "40\n",
            "41\n",
            "42\n",
            "43\n",
            "44\n",
            "45\n",
            "46\n",
            "47\n",
            "48\n",
            "49\n",
            "50\n",
            "51\n",
            "52\n",
            "53\n",
            "54\n",
            "55\n",
            "56\n",
            "57\n",
            "58\n",
            "59\n",
            "60\n",
            "61\n",
            "62\n",
            "63\n",
            "64\n",
            "65\n",
            "66\n",
            "67\n",
            "68\n",
            "69\n",
            "70\n",
            "71\n",
            "72\n",
            "73\n",
            "74\n",
            "75\n",
            "76\n",
            "77\n",
            "78\n",
            "79\n",
            "80\n",
            "81\n",
            "82\n",
            "83\n",
            "84\n",
            "85\n",
            "86\n",
            "87\n",
            "88\n",
            "89\n",
            "90\n",
            "91\n",
            "92\n",
            "93\n",
            "94\n",
            "95\n",
            "96\n",
            "97\n",
            "98\n",
            "99\n",
            "100\n"
          ]
        }
      ]
    },
    {
      "cell_type": "code",
      "source": [
        "even_sum = sum(i for i in range(1, 101) if i % 2 == 0)\n",
        "print(\"Sum of even numbers from 1 to 100:\", even_sum)"
      ],
      "metadata": {
        "colab": {
          "base_uri": "https://localhost:8080/"
        },
        "id": "nfkrPAI-r8co",
        "outputId": "c6b83416-b3ac-47d8-f2fe-b9ceef61acce"
      },
      "execution_count": 11,
      "outputs": [
        {
          "output_type": "stream",
          "name": "stdout",
          "text": [
            "Sum of even numbers from 1 to 100: 2550\n"
          ]
        }
      ]
    },
    {
      "cell_type": "code",
      "source": [
        "string = input(\"Enter a string: \")\n",
        "reversed_string = string[::-1]\n",
        "print(\"Reversed string:\", reversed_string)"
      ],
      "metadata": {
        "colab": {
          "base_uri": "https://localhost:8080/"
        },
        "id": "p7rAvdoatAO9",
        "outputId": "a923d8ed-7688-4289-96f3-34d97cd8926e"
      },
      "execution_count": 12,
      "outputs": [
        {
          "output_type": "stream",
          "name": "stdout",
          "text": [
            "Enter a string: 1\n",
            "Reversed string: 1\n"
          ]
        }
      ]
    },
    {
      "cell_type": "code",
      "source": [
        "num = int(input(\"Enter a number: \"))\n",
        "factorial = 1\n",
        "i = num\n",
        "while i > 0:\n",
        "  factorial *= i\n",
        "  i -= 1\n",
        "\n",
        "  print(f\"Factorial of {num} is {factorial}\")"
      ],
      "metadata": {
        "colab": {
          "base_uri": "https://localhost:8080/"
        },
        "id": "im_OJilHttsE",
        "outputId": "d21b933e-2095-4137-a899-6fd15db69798"
      },
      "execution_count": 17,
      "outputs": [
        {
          "output_type": "stream",
          "name": "stdout",
          "text": [
            "Enter a number: 5\n",
            "Factorial of 5 is 5\n",
            "Factorial of 5 is 20\n",
            "Factorial of 5 is 60\n",
            "Factorial of 5 is 120\n",
            "Factorial of 5 is 120\n"
          ]
        }
      ]
    },
    {
      "cell_type": "code",
      "source": [],
      "metadata": {
        "id": "E2aMziDSwKCZ"
      },
      "execution_count": null,
      "outputs": []
    }
  ]
}